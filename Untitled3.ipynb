{
 "cells": [
  {
   "cell_type": "code",
   "execution_count": 3,
   "metadata": {},
   "outputs": [
    {
     "name": "stdout",
     "output_type": "stream",
     "text": [
      "h - 0.09\n",
      "e - 0.09\n",
      "o - 0.09\n",
      "space - 0.09\n",
      "k - 0.09\n",
      "i - 0.09\n",
      "y - 0.09\n",
      "l - 0.181\n",
      "t - 0.181\n"
     ]
    }
   ],
   "source": [
    "import math\n",
    "count = dict()\n",
    "f = open(\"text.txt\", \"r\").read()\n",
    "for x in list(f):\n",
    "    if x == ' ':\n",
    "        x = 'space'\n",
    "    if x in count.keys():\n",
    "        count[x] += 1\n",
    "    else:\n",
    "        count[x] = 1\n",
    "count = dict(sorted(count.items(), key=lambda item: item[1]))\n",
    "for x in count.keys():\n",
    "    print(x + \" - \" + str(math.floor(count[x] / len(f) * 1000) / 1000))"
   ]
  },
  {
   "cell_type": "code",
   "execution_count": 44,
   "metadata": {},
   "outputs": [],
   "source": [
    "def h(a):\n",
    "    sumo = 0\n",
    "    for x in a:\n",
    "        if x == 0:\n",
    "            continue\n",
    "        sumo -= x * math.log(x, 2)\n",
    "    return sumo"
   ]
  },
  {
   "cell_type": "code",
   "execution_count": 16,
   "metadata": {},
   "outputs": [
    {
     "data": {
      "text/plain": [
       "[0.09, 0.09, 0.09, 0.09, 0.09, 0.09, 0.09, 0.181, 0.181]"
      ]
     },
     "execution_count": 16,
     "metadata": {},
     "output_type": "execute_result"
    }
   ],
   "source": [
    "counts = []\n",
    "for x in count.values():\n",
    "    counts.append(math.floor(x / len(f) * 1000) / 1000)\n",
    "counts"
   ]
  },
  {
   "cell_type": "code",
   "execution_count": 18,
   "metadata": {},
   "outputs": [
    {
     "data": {
      "text/plain": [
       "3.081246348572975"
      ]
     },
     "execution_count": 18,
     "metadata": {},
     "output_type": "execute_result"
    }
   ],
   "source": [
    "h(counts)"
   ]
  },
  {
   "cell_type": "code",
   "execution_count": 52,
   "metadata": {},
   "outputs": [],
   "source": [
    "import numpy as np\n",
    "def hx(m):\n",
    "    return hy(np.transpose(m))\n",
    "def hy(m):\n",
    "    coutner = 0\n",
    "    for x in m:\n",
    "        coutner -= sum(x) * math.log(sum(x), 2)\n",
    "    return coutner\n",
    "def hxy(m):\n",
    "    l = []\n",
    "    m1 = []\n",
    "    for x in m:\n",
    "        l.append(sum(x))\n",
    "        counter = []\n",
    "        for y in x:\n",
    "            counter.append(y / sum(x))\n",
    "        m1.append(counter)\n",
    "    sumo = 0\n",
    "    for x in range(len(m1)):\n",
    "        sumo += h(m1[x]) * l[x]\n",
    "    return sumo\n",
    "def hyx(m):\n",
    "    return hxy(np.transpose(m))\n",
    "def h_xy(m):\n",
    "    return hxy(m) + hy(m)"
   ]
  },
  {
   "cell_type": "code",
   "execution_count": 19,
   "metadata": {},
   "outputs": [],
   "source": [
    "arr = [[0.125, 0.0625, 0.03125, 0.03125], \n",
    "       [0.0625, 0.125, 0.03125, 0.03125], \n",
    "       [0.0625, 0.0625, 0.0625, 0.0625], \n",
    "       [0.25, 0, 0, 0]]"
   ]
  },
  {
   "cell_type": "code",
   "execution_count": 53,
   "metadata": {},
   "outputs": [
    {
     "name": "stdout",
     "output_type": "stream",
     "text": [
      "1.75\n",
      "2.0\n",
      "1.375\n",
      "1.625\n",
      "3.375\n"
     ]
    }
   ],
   "source": [
    "print(hx(arr))\n",
    "print(hy(arr))\n",
    "print(hxy(arr))\n",
    "print(hyx(arr))\n",
    "print(h_xy(arr))"
   ]
  },
  {
   "cell_type": "code",
   "execution_count": 54,
   "metadata": {},
   "outputs": [],
   "source": [
    "arr1 = [[0.1,0.2,0.1],\n",
    "        [0,0.3,0],\n",
    "        [0.1,0,0.2]]"
   ]
  },
  {
   "cell_type": "code",
   "execution_count": 55,
   "metadata": {},
   "outputs": [
    {
     "name": "stdout",
     "output_type": "stream",
     "text": [
      "1.4854752972273344\n",
      "1.5709505944546684\n",
      "0.875488750216347\n",
      "0.9609640474436812\n",
      "2.4464393446710155\n"
     ]
    }
   ],
   "source": [
    "print(hx(arr1))\n",
    "print(hy(arr1))\n",
    "print(hxy(arr1))\n",
    "print(hyx(arr1))\n",
    "print(h_xy(arr1))"
   ]
  },
  {
   "cell_type": "code",
   "execution_count": 64,
   "metadata": {},
   "outputs": [],
   "source": [
    "arr2 = [[0.04,0.02,0.1,0.05,0],\n",
    "        [0.1,0.05,0.04,0,0.01],\n",
    "        [0.04,0.02,0.1,0.05,0],\n",
    "        [0.1,0.05,0.04,0,0.01],\n",
    "        [0.02,0.04,0.08,0.03,0.01]]"
   ]
  },
  {
   "cell_type": "code",
   "execution_count": 65,
   "metadata": {},
   "outputs": [
    {
     "name": "stdout",
     "output_type": "stream",
     "text": [
      "2.031423471933344\n",
      "2.319725133993084\n",
      "1.7834253238275886\n",
      "2.071726985887329\n",
      "4.103150457820673\n"
     ]
    }
   ],
   "source": [
    "print(hx(arr2))\n",
    "print(hy(arr2))\n",
    "print(hxy(arr2))\n",
    "print(hyx(arr2))\n",
    "print(h_xy(arr2))"
   ]
  }
 ],
 "metadata": {
  "kernelspec": {
   "display_name": "Python 3",
   "language": "python",
   "name": "python3"
  },
  "language_info": {
   "codemirror_mode": {
    "name": "ipython",
    "version": 3
   },
   "file_extension": ".py",
   "mimetype": "text/x-python",
   "name": "python",
   "nbconvert_exporter": "python",
   "pygments_lexer": "ipython3",
   "version": "3.8.5"
  }
 },
 "nbformat": 4,
 "nbformat_minor": 4
}
